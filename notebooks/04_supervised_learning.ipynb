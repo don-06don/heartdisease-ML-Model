{
 "cells": [
  {
   "cell_type": "markdown",
   "id": "ba170184",
   "metadata": {},
   "source": [
    "## **🤖 Supervised Learning - Classification Models**\n",
    "\n",
    "We now move to the **modeling stage** where we train and evaluate different supervised learning algorithms for heart disease prediction.  \n",
    "\n",
    "- The dataset will be split into **training (80%)** and **testing (20%)** subsets.  \n",
    "- Models to be trained: **Logistic Regression, Decision Tree, Random Forest, and Support Vector Machine (SVM)**.  \n",
    "- Evaluation will be based on **Accuracy, Precision, Recall, F1-score**, and **ROC/AUC** to compare model performance.  \n",
    "\n",
    "This step helps us identify which model performs best and is most suitable for the final prediction task.  \n"
   ]
  },
  {
   "cell_type": "code",
   "execution_count": 1,
   "id": "d78ad17c",
   "metadata": {},
   "outputs": [],
   "source": [
    "import pandas as pd\n",
    "import numpy as np\n",
    "from sklearn.model_selection import train_test_split\n",
    "from sklearn.linear_model import LogisticRegression\n",
    "from sklearn.ensemble import RandomForestClassifier\n",
    "from sklearn.metrics import accuracy_score, classification_report, roc_curve, roc_auc_score\n",
    "from sklearn.decomposition import PCA\n",
    "import matplotlib.pyplot as plt\n",
    "from sklearn.tree import DecisionTreeClassifier"
   ]
  },
  {
   "cell_type": "markdown",
   "id": "2268e11f",
   "metadata": {},
   "source": [
    "## **🛠️ Preparing Datasets for Modeling**\n",
    "\n",
    "Here we prepare different **feature sets** to test during model training:  \n",
    "\n",
    "- **Full dataset (`X_full`)**: all processed features.  \n",
    "- **RFE-selected dataset (`X_rfe`)**: only the top features chosen by Recursive Feature Elimination.  \n",
    "- **PCA-transformed dataset (`X_pca`)**: reduced feature set retaining 95% of the variance.  \n",
    "- **Target (`y`)**: labels loaded from the processed file.  \n",
    "\n",
    "This allows us to compare how different feature selection/reduction strategies impact model performance.  \n"
   ]
  },
  {
   "cell_type": "code",
   "execution_count": null,
   "id": "5de620a5",
   "metadata": {},
   "outputs": [],
   "source": [
    "X_full = pd.read_csv(\"../data/processed/processed_X.csv\")  \n",
    "y = pd.read_csv(\"../data/processed/y_pca_95.csv\").values.ravel()\n",
    "\n",
    "rfe_results = pd.read_csv(\"../data/processed/rfe_selected_features.csv\")\n",
    "selected_features = rfe_results[rfe_results[\"Selected\"]==True][\"Feature\"].tolist()\n",
    "selected_feature_names = [X_full.columns[i] for i in selected_features]\n",
    "X_rfe = X_full[selected_feature_names]\n",
    "\n",
    "X_pca = pd.read_csv(\"../data/processed/X_pca_95.csv\")  "
   ]
  },
  {
   "cell_type": "markdown",
   "id": "cb84b6fb",
   "metadata": {},
   "source": [
    "## **🔹 Logistic Regression - All Features**\n",
    "We trained Logistic Regression on the **full feature set** (all processed variables).\n",
    "\n",
    "### What we did:\n",
    "- Split the dataset (80/20 train-test).  \n",
    "- Trained Logistic Regression with all available features (~30).  \n",
    "\n",
    "### What we found:\n",
    "- **Accuracy**: ~85.2%  \n",
    "- Class 0: Precision = 0.90, Recall = 0.82  \n",
    "- Class 1: Precision = 0.81, Recall = 0.89  \n",
    "\n",
    "### Analysis:\n",
    "- Model performs reasonably well with **balanced precision and recall**.  \n",
    "- Good recall for **disease class (1)** → strong ability to detect patients with heart disease.  \n",
    "- However, using all features might introduce noise or redundancy.  \n"
   ]
  },
  {
   "cell_type": "code",
   "execution_count": null,
   "id": "e1faa7d7",
   "metadata": {},
   "outputs": [
    {
     "name": "stdout",
     "output_type": "stream",
     "text": [
      "🔹 Logistic Regression - All Features\n",
      "Accuracy: 0.8524590163934426\n",
      "              precision    recall  f1-score   support\n",
      "\n",
      "           0       0.90      0.82      0.86        33\n",
      "           1       0.81      0.89      0.85        28\n",
      "\n",
      "    accuracy                           0.85        61\n",
      "   macro avg       0.85      0.86      0.85        61\n",
      "weighted avg       0.86      0.85      0.85        61\n",
      "\n"
     ]
    }
   ],
   "source": [
    "X_train_full, X_test_full, y_train_full, y_test_full = train_test_split(\n",
    "    X_full, y, test_size=0.2, random_state=42, stratify=y\n",
    ")\n",
    "\n",
    "log_reg_full = LogisticRegression(max_iter=1000)\n",
    "log_reg_full.fit(X_train_full, y_train_full)\n",
    "\n",
    "y_pred_full = log_reg_full.predict(X_test_full)\n",
    "print(\"🔹 Logistic Regression - All Features\")\n",
    "print(\"Accuracy:\", accuracy_score(y_test_full, y_pred_full))\n",
    "print(classification_report(y_test_full, y_pred_full))"
   ]
  },
  {
   "cell_type": "markdown",
   "id": "e86706de",
   "metadata": {},
   "source": [
    "## **🔹 Logistic Regression - RFE**\n",
    "We applied **Recursive Feature Elimination (RFE)** to choose the top 10 most relevant predictors.\n",
    "\n",
    "### What we did:\n",
    "- Selected ~10 features via RFE.  \n",
    "- Trained Logistic Regression only on those selected predictors.  \n",
    "\n",
    "### What we found:\n",
    "- **Accuracy**: ~86.9%  \n",
    "- Class 0: Precision = 0.90, Recall = 0.85  \n",
    "- Class 1: Precision = 0.83, Recall = 0.89  \n",
    "\n",
    "### Analysis:\n",
    "- Accuracy improved slightly compared to the full feature model (~85% → ~87%).  \n",
    "- Model is **simpler and more efficient**, with no major drop in performance.  \n",
    "- Suggests that **feature selection helps remove irrelevant features** and may boost generalization.  \n"
   ]
  },
  {
   "cell_type": "code",
   "execution_count": null,
   "id": "35fe75b3",
   "metadata": {},
   "outputs": [
    {
     "name": "stdout",
     "output_type": "stream",
     "text": [
      "🔹 Logistic Regression - Selected Features (~10)\n",
      "Accuracy: 0.8688524590163934\n",
      "              precision    recall  f1-score   support\n",
      "\n",
      "           0       0.90      0.85      0.88        33\n",
      "           1       0.83      0.89      0.86        28\n",
      "\n",
      "    accuracy                           0.87        61\n",
      "   macro avg       0.87      0.87      0.87        61\n",
      "weighted avg       0.87      0.87      0.87        61\n",
      "\n"
     ]
    }
   ],
   "source": [
    "X_train_rfe, X_test_rfe, y_train_rfe, y_test_rfe = train_test_split(\n",
    "    X_rfe, y, test_size=0.2, random_state=42, stratify=y\n",
    ")\n",
    "\n",
    "log_reg_rfe = LogisticRegression(max_iter=1000)\n",
    "log_reg_rfe.fit(X_train_rfe, y_train_rfe)\n",
    "\n",
    "y_pred_rfe = log_reg_rfe.predict(X_test_rfe)\n",
    "print(\"🔹 Logistic Regression - Selected Features (~10)\")\n",
    "print(\"Accuracy:\", accuracy_score(y_test_rfe, y_pred_rfe))\n",
    "print(classification_report(y_test_rfe, y_pred_rfe))"
   ]
  },
  {
   "cell_type": "markdown",
   "id": "bcf99074",
   "metadata": {},
   "source": [
    "## **🔹 Logistic Regression - PCA**\n",
    "We used **PCA** to reduce dimensionality, keeping 95% variance (12 components).\n",
    "\n",
    "### What we did:\n",
    "- Transformed original features into 12 PCA components.  \n",
    "- Trained Logistic Regression on the transformed dataset.  \n",
    "\n",
    "### What we found:\n",
    "- **Accuracy**: ~88.5%  \n",
    "- Class 0: Precision = 0.91, Recall = 0.88  \n",
    "- Class 1: Precision = 0.86, Recall = 0.89  \n",
    "\n",
    "### Analysis:\n",
    "- PCA achieved the **best accuracy** among the three setups.  \n",
    "- Performance is balanced across both classes.  \n",
    "- Downsides: PCA features are **not directly interpretable**, unlike original/RFE-selected features.  \n",
    "- Shows that PCA effectively reduces dimensionality while improving prediction.  \n"
   ]
  },
  {
   "cell_type": "code",
   "execution_count": null,
   "id": "1e9ad81b",
   "metadata": {},
   "outputs": [
    {
     "name": "stdout",
     "output_type": "stream",
     "text": [
      "🔹 Logistic Regression - PCA Features\n",
      "Accuracy: 0.8852459016393442\n",
      "              precision    recall  f1-score   support\n",
      "\n",
      "           0       0.91      0.88      0.89        33\n",
      "           1       0.86      0.89      0.88        28\n",
      "\n",
      "    accuracy                           0.89        61\n",
      "   macro avg       0.88      0.89      0.88        61\n",
      "weighted avg       0.89      0.89      0.89        61\n",
      "\n"
     ]
    }
   ],
   "source": [
    "X_train_pca, X_test_pca, y_train_pca, y_test_pca = train_test_split(\n",
    "    X_pca, y, test_size=0.2, random_state=42, stratify=y\n",
    ")\n",
    "\n",
    "log_reg_pca = LogisticRegression(max_iter=1000)\n",
    "log_reg_pca.fit(X_train_pca, y_train_pca)\n",
    "\n",
    "y_pred_pca = log_reg_pca.predict(X_test_pca)\n",
    "print(\"🔹 Logistic Regression - PCA Features\")\n",
    "print(\"Accuracy:\", accuracy_score(y_test_pca, y_pred_pca))\n",
    "print(classification_report(y_test_pca, y_pred_pca))"
   ]
  },
  {
   "cell_type": "markdown",
   "id": "4c5eeee8",
   "metadata": {},
   "source": [
    "## **📊 ROC Curve & AUC – Logistic Regression (PCA)**\n",
    "\n",
    "We evaluated the PCA-based Logistic Regression model using the **ROC curve** and **AUC score**.  \n",
    "\n",
    "### What we found:\n",
    "- **AUC Score**: 0.952 → Excellent performance.  \n",
    "- The ROC curve shows the model achieves a very good balance between **True Positive Rate (sensitivity)** and **False Positive Rate (1 - specificity)**.  \n",
    "- AUC close to 1.0 indicates the classifier is highly capable of distinguishing between patients with and without heart disease.  \n",
    "\n",
    "### Analysis:\n",
    "- This reinforces the earlier accuracy/F1 results, confirming that PCA features helped the model achieve **strong predictive power**.  \n",
    "- Compared to accuracy alone, AUC gives a more robust view of performance across different thresholds.  \n"
   ]
  },
  {
   "cell_type": "code",
   "execution_count": 10,
   "id": "1a68ae08",
   "metadata": {},
   "outputs": [
    {
     "data": {
      "image/png": "[encoded data removed]",
      "text/plain": [
       "<Figure size 800x600 with 1 Axes>"
      ]
     },
     "metadata": {},
     "output_type": "display_data"
    },
    {
     "name": "stdout",
     "output_type": "stream",
     "text": [
      "AUC Score (PCA Logistic Regression): 0.952\n"
     ]
    }
   ],
   "source": [
    "y_prob_pca = log_reg_pca.predict_proba(X_test_pca)[:, 1]\n",
    "fpr, tpr, _ = roc_curve(y_test_pca, y_prob_pca)\n",
    "auc_score = roc_auc_score(y_test_pca, y_prob_pca)\n",
    "\n",
    "plt.figure(figsize=(8,6))\n",
    "plt.plot(fpr, tpr, label=f\"PCA Logistic Regression (AUC = {auc_score:.2f})\", color=\"blue\")\n",
    "plt.plot([0,1],[0,1],'k--')\n",
    "plt.xlabel(\"False Positive Rate\")\n",
    "plt.ylabel(\"True Positive Rate\")\n",
    "plt.title(\"ROC Curve - PCA Logistic Regression\")\n",
    "plt.legend()\n",
    "plt.show()\n",
    "\n",
    "print(f\"AUC Score (PCA Logistic Regression): {auc_score:.3f}\")"
   ]
  }
 ],
 "metadata": {
  "kernelspec": {
   "display_name": "Python 3",
   "language": "python",
   "name": "python3"
  },
  "language_info": {
   "codemirror_mode": {
    "name": "ipython",
    "version": 3
   },
   "file_extension": ".py",
   "mimetype": "text/x-python",
   "name": "python",
   "nbconvert_exporter": "python",
   "pygments_lexer": "ipython3",
   "version": "3.13.6"
  }
 },
 "nbformat": 4,
 "nbformat_minor": 5
}
